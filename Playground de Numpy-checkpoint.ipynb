{
 "cells": [
  {
   "cell_type": "code",
   "execution_count": 25,
   "metadata": {},
   "outputs": [],
   "source": [
    "import numpy as np"
   ]
  },
  {
   "cell_type": "code",
   "execution_count": 26,
   "metadata": {},
   "outputs": [],
   "source": [
    "if False: \n",
    "    array = np.array([1,4,5,8], float)\n",
    "    print (\"array\")\n",
    "    array = np.array([[1,2,3], [4,5,6]], float)"
   ]
  },
  {
   "cell_type": "code",
   "execution_count": 27,
   "metadata": {},
   "outputs": [
    {
     "name": "stdout",
     "output_type": "stream",
     "text": [
      "array\n",
      "4.0\n",
      "[1. 4.]\n",
      "5.0\n"
     ]
    }
   ],
   "source": [
    "if True: \n",
    "    array = np.array([1,4,8], float)\n",
    "    print (\"array\")\n",
    "    print (array[1])\n",
    "    print (array[:2])\n",
    "    array[1] = 5.0\n",
    "    print (array[1])"
   ]
  },
  {
   "cell_type": "code",
   "execution_count": 28,
   "metadata": {},
   "outputs": [],
   "source": [
    "# Change False to True to see Matrix indexing and slicing in action"
   ]
  },
  {
   "cell_type": "code",
   "execution_count": 29,
   "metadata": {},
   "outputs": [
    {
     "name": "stdout",
     "output_type": "stream",
     "text": [
      "two_D_array\n",
      "5.0\n",
      "[4. 5. 6.]\n",
      "[3. 6.]\n"
     ]
    }
   ],
   "source": [
    "if True:\n",
    "    two_D_array = np.array([[1,2,3], [4,5,6]], float)\n",
    "    print  (\"two_D_array\")\n",
    "    print (two_D_array[1][1])\n",
    "    print (two_D_array[1, :])\n",
    "    print (two_D_array[:,2])"
   ]
  },
  {
   "cell_type": "code",
   "execution_count": 30,
   "metadata": {},
   "outputs": [],
   "source": [
    "# Change False to True to see Matrix arithmetics in action"
   ]
  },
  {
   "cell_type": "code",
   "execution_count": 31,
   "metadata": {},
   "outputs": [
    {
     "name": "stdout",
     "output_type": "stream",
     "text": [
      "[[1. 2.]\n",
      " [3. 4.]]\n",
      "[[ 6.  8.]\n",
      " [10. 12.]]\n",
      "[[-4. -4.]\n",
      " [-4. -4.]]\n",
      "[[ 5. 12.]\n",
      " [21. 32.]]\n"
     ]
    }
   ],
   "source": [
    "if True:\n",
    "    array_1 = np.array([[1,2], [3,4]], float)\n",
    "    array_2 = np.array([[5,6], [7,8]], float)\n",
    "    print (array_1)\n",
    "    print (array_1 + array_2)\n",
    "    print (array_1 - array_2)\n",
    "    print (array_1 * array_2)"
   ]
  },
  {
   "cell_type": "code",
   "execution_count": 32,
   "metadata": {},
   "outputs": [
    {
     "ename": "SyntaxError",
     "evalue": "invalid syntax (<ipython-input-32-7739f211393f>, line 4)",
     "output_type": "error",
     "traceback": [
      "\u001b[1;36m  File \u001b[1;32m\"<ipython-input-32-7739f211393f>\"\u001b[1;36m, line \u001b[1;32m4\u001b[0m\n\u001b[1;33m    print np.mean(array_1)\u001b[0m\n\u001b[1;37m           ^\u001b[0m\n\u001b[1;31mSyntaxError\u001b[0m\u001b[1;31m:\u001b[0m invalid syntax\n"
     ]
    }
   ],
   "source": [
    "if False:\n",
    "    array_1 = np.array([1,2,3], float)\n",
    "    array_2 = np.array([[6], [7], [8]], float)\n",
    "    print np.mean(array_1)\n",
    "    print np.mean(array_2)\n",
    "    print np.dot(array_1, array_2)"
   ]
  },
  {
   "cell_type": "code",
   "execution_count": null,
   "metadata": {},
   "outputs": [],
   "source": []
  }
 ],
 "metadata": {
  "kernelspec": {
   "display_name": "Python 3",
   "language": "python",
   "name": "python3"
  },
  "language_info": {
   "codemirror_mode": {
    "name": "ipython",
    "version": 3
   },
   "file_extension": ".py",
   "mimetype": "text/x-python",
   "name": "python",
   "nbconvert_exporter": "python",
   "pygments_lexer": "ipython3",
   "version": "3.7.0"
  }
 },
 "nbformat": 4,
 "nbformat_minor": 2
}
