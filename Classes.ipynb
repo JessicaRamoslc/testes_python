{
 "cells": [
  {
   "cell_type": "code",
   "execution_count": 1,
   "metadata": {},
   "outputs": [
    {
     "name": "stdout",
     "output_type": "stream",
     "text": [
      "Camaro\n",
      "2010\n"
     ]
    }
   ],
   "source": [
    "#criando a classe:\n",
    "class Carro:\n",
    "    \n",
    "    def criarNome(self, nome):\n",
    "        self.nome = nome\n",
    "    def criarAno(self,ano):\n",
    "        self.ano = ano\n",
    "    def obterNome(self):\n",
    "        return self.nome\n",
    "    def obterAno(self):\n",
    "        return self.ano\n",
    "#objeto:\n",
    "carro = Carro()\n",
    "carro.criarNome('Camaro')\n",
    "carro.criarAno(2010)\n",
    "#printar:\n",
    "print (carro.obterNome())\n",
    "print (carro.obterAno())"
   ]
  },
  {
   "cell_type": "code",
   "execution_count": 2,
   "metadata": {},
   "outputs": [],
   "source": [
    "#fazendo com construtor:"
   ]
  },
  {
   "cell_type": "code",
   "execution_count": 3,
   "metadata": {},
   "outputs": [
    {
     "name": "stdout",
     "output_type": "stream",
     "text": [
      "camaro\n",
      "2010\n"
     ]
    }
   ],
   "source": [
    "class Carro:\n",
    "    def __init__(self,nome, ano):\n",
    "        self.nome = nome\n",
    "        self.ano = ano\n",
    "    def obterNome(self):\n",
    "        return self.nome\n",
    "    def obterAno(self):\n",
    "        return self.ano\n",
    "    \n",
    "carro = Carro('camaro', 2010)\n",
    "print (carro.obterNome())\n",
    "print (carro.obterAno())\n"
   ]
  },
  {
   "cell_type": "code",
   "execution_count": 7,
   "metadata": {},
   "outputs": [
    {
     "name": "stdout",
     "output_type": "stream",
     "text": [
      "classe pai\n",
      "classe pai\n"
     ]
    }
   ],
   "source": [
    "class ClassePai:\n",
    "    var1 = \"classe pai\"\n",
    "class classeFilha(ClassePai):\n",
    "    pass\n",
    "\n",
    "objeto_pai = ClassePai()\n",
    "objeto_filho = ClassePai()\n",
    "\n",
    "print(objeto_pai.var1)\n",
    "print(objeto_filho.var1)"
   ]
  },
  {
   "cell_type": "code",
   "execution_count": 25,
   "metadata": {},
   "outputs": [
    {
     "name": "stdout",
     "output_type": "stream",
     "text": [
      "Construtor chamado com sucesso\n",
      "Olá, meu nome é Jessica e eu tenho 27\n"
     ]
    }
   ],
   "source": [
    "class Meu_Objeto:\n",
    "    def __init__(self):\n",
    "        self.nome = 'Jessica'\n",
    "        self.idade = 27\n",
    "        print('Construtor chamado com sucesso')\n",
    "    \n",
    "    \n",
    "    def imprime(self):\n",
    "        print('Olá, meu nome é {} e eu tenho {}'.format(self.nome, self.idade))\n",
    "\n",
    "Jessica = Meu_Objeto()\n",
    "Jessica.imprime()\n",
    "\n",
    "    "
   ]
  },
  {
   "cell_type": "code",
   "execution_count": null,
   "metadata": {},
   "outputs": [],
   "source": []
  }
 ],
 "metadata": {
  "kernelspec": {
   "display_name": "Python 3",
   "language": "python",
   "name": "python3"
  },
  "language_info": {
   "codemirror_mode": {
    "name": "ipython",
    "version": 3
   },
   "file_extension": ".py",
   "mimetype": "text/x-python",
   "name": "python",
   "nbconvert_exporter": "python",
   "pygments_lexer": "ipython3",
   "version": "3.7.0"
  }
 },
 "nbformat": 4,
 "nbformat_minor": 2
}
